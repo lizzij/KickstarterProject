{
 "cells": [
  {
   "cell_type": "markdown",
   "metadata": {},
   "source": [
    "# Predicting Crowdfunding Success\n",
    "Using kNN, logistic regression model, support vector machine, naive bayes to predict success rate of crowdfunding."
   ]
  },
  {
   "cell_type": "code",
   "execution_count": 1,
   "metadata": {},
   "outputs": [],
   "source": [
    "import re\n",
    "import pandas as pd\n",
    "import numpy as np\n",
    "import seaborn as sns\n",
    "import datetime\n",
    "import matplotlib.pyplot as plt\n",
    "from sklearn.pipeline import Pipeline, FeatureUnion\n",
    "from sklearn.pipeline import make_pipeline\n",
    "from sklearn.model_selection import train_test_split\n",
    "\n",
    "from sklearn.metrics import make_scorer, accuracy_score\n",
    "from sklearn.model_selection import cross_val_score\n",
    "from sklearn.model_selection import GridSearchCV\n",
    "from sklearn.preprocessing import StandardScaler\n",
    "from sklearn.linear_model import LogisticRegression\n",
    "from sklearn.neighbors import KNeighborsClassifier\n",
    "\n",
    "from sklearn.svm import SVC  \n",
    "from sklearn.metrics import classification_report, confusion_matrix \n",
    "\n",
    "from sklearn.naive_bayes import GaussianNB\n",
    "\n",
    "%matplotlib inline"
   ]
  },
  {
   "cell_type": "markdown",
   "metadata": {},
   "source": [
    "# Data Cleaning & Processing"
   ]
  },
  {
   "cell_type": "code",
   "execution_count": 2,
   "metadata": {},
   "outputs": [
    {
     "data": {
      "text/html": [
       "<div>\n",
       "<style scoped>\n",
       "    .dataframe tbody tr th:only-of-type {\n",
       "        vertical-align: middle;\n",
       "    }\n",
       "\n",
       "    .dataframe tbody tr th {\n",
       "        vertical-align: top;\n",
       "    }\n",
       "\n",
       "    .dataframe thead th {\n",
       "        text-align: right;\n",
       "    }\n",
       "</style>\n",
       "<table border=\"1\" class=\"dataframe\">\n",
       "  <thead>\n",
       "    <tr style=\"text-align: right;\">\n",
       "      <th></th>\n",
       "      <th>Unnamed: 0</th>\n",
       "      <th>backers_count</th>\n",
       "      <th>blurb</th>\n",
       "      <th>category</th>\n",
       "      <th>converted_pledged_amount</th>\n",
       "      <th>country</th>\n",
       "      <th>created_at</th>\n",
       "      <th>currency</th>\n",
       "      <th>currency_symbol</th>\n",
       "      <th>currency_trailing_code</th>\n",
       "      <th>...</th>\n",
       "      <th>static_usd_rate</th>\n",
       "      <th>usd_pledged</th>\n",
       "      <th>usd_type</th>\n",
       "      <th>preparation_duration</th>\n",
       "      <th>preparation_duration_r</th>\n",
       "      <th>launch_duration</th>\n",
       "      <th>launch_duration_r</th>\n",
       "      <th>created_at_readable</th>\n",
       "      <th>deadline_readable</th>\n",
       "      <th>launched_at_readable</th>\n",
       "    </tr>\n",
       "  </thead>\n",
       "  <tbody>\n",
       "    <tr>\n",
       "      <th>0</th>\n",
       "      <td>1</td>\n",
       "      <td>21</td>\n",
       "      <td>2006 was almost 7 years ago.... Can you believ...</td>\n",
       "      <td>Rock</td>\n",
       "      <td>802</td>\n",
       "      <td>US</td>\n",
       "      <td>1387659690</td>\n",
       "      <td>USD</td>\n",
       "      <td>$</td>\n",
       "      <td>True</td>\n",
       "      <td>...</td>\n",
       "      <td>1.0</td>\n",
       "      <td>802.0</td>\n",
       "      <td>international</td>\n",
       "      <td>351356</td>\n",
       "      <td>4d 1H 35M 56S</td>\n",
       "      <td>3888000</td>\n",
       "      <td>45d 0H 0M 0S</td>\n",
       "      <td>2013-12-21 16:01:30</td>\n",
       "      <td>2014-02-08 17:37:26</td>\n",
       "      <td>2013-12-25 17:37:26</td>\n",
       "    </tr>\n",
       "  </tbody>\n",
       "</table>\n",
       "<p>1 rows × 41 columns</p>\n",
       "</div>"
      ],
      "text/plain": [
       "   Unnamed: 0  backers_count  \\\n",
       "0           1             21   \n",
       "\n",
       "                                               blurb category  \\\n",
       "0  2006 was almost 7 years ago.... Can you believ...     Rock   \n",
       "\n",
       "   converted_pledged_amount country  created_at currency currency_symbol  \\\n",
       "0                       802      US  1387659690      USD               $   \n",
       "\n",
       "   currency_trailing_code         ...          static_usd_rate  usd_pledged  \\\n",
       "0                    True         ...                      1.0        802.0   \n",
       "\n",
       "        usd_type preparation_duration  preparation_duration_r  \\\n",
       "0  international               351356           4d 1H 35M 56S   \n",
       "\n",
       "   launch_duration  launch_duration_r  created_at_readable  \\\n",
       "0          3888000       45d 0H 0M 0S  2013-12-21 16:01:30   \n",
       "\n",
       "     deadline_readable launched_at_readable  \n",
       "0  2014-02-08 17:37:26  2013-12-25 17:37:26  \n",
       "\n",
       "[1 rows x 41 columns]"
      ]
     },
     "execution_count": 2,
     "metadata": {},
     "output_type": "execute_result"
    }
   ],
   "source": [
    "df = pd.read_csv('./data/data.csv')\n",
    "df.head(1)"
   ]
  },
  {
   "cell_type": "code",
   "execution_count": 3,
   "metadata": {},
   "outputs": [
    {
     "data": {
      "text/plain": [
       "(3779, 41)"
      ]
     },
     "execution_count": 3,
     "metadata": {},
     "output_type": "execute_result"
    }
   ],
   "source": [
    "df.shape"
   ]
  },
  {
   "cell_type": "code",
   "execution_count": 4,
   "metadata": {},
   "outputs": [
    {
     "data": {
      "text/plain": [
       "successful    2224\n",
       "failed        1276\n",
       "canceled       149\n",
       "live           120\n",
       "suspended       10\n",
       "Name: state, dtype: int64"
      ]
     },
     "execution_count": 4,
     "metadata": {},
     "output_type": "execute_result"
    }
   ],
   "source": [
    "df.state.value_counts()"
   ]
  },
  {
   "cell_type": "code",
   "execution_count": 5,
   "metadata": {},
   "outputs": [
    {
     "data": {
      "text/plain": [
       "(3500, 41)"
      ]
     },
     "execution_count": 5,
     "metadata": {},
     "output_type": "execute_result"
    }
   ],
   "source": [
    "# drop status rows labeled as live, canceled, suspended.\n",
    "df = df[~df['state'].isin(['live', 'canceled', 'suspended'])]\n",
    "df.shape"
   ]
  },
  {
   "cell_type": "code",
   "execution_count": 6,
   "metadata": {},
   "outputs": [
    {
     "data": {
      "text/html": [
       "<div>\n",
       "<style scoped>\n",
       "    .dataframe tbody tr th:only-of-type {\n",
       "        vertical-align: middle;\n",
       "    }\n",
       "\n",
       "    .dataframe tbody tr th {\n",
       "        vertical-align: top;\n",
       "    }\n",
       "\n",
       "    .dataframe thead th {\n",
       "        text-align: right;\n",
       "    }\n",
       "</style>\n",
       "<table border=\"1\" class=\"dataframe\">\n",
       "  <thead>\n",
       "    <tr style=\"text-align: right;\">\n",
       "      <th></th>\n",
       "      <th>backers_count</th>\n",
       "      <th>category</th>\n",
       "      <th>converted_pledged_amount</th>\n",
       "      <th>country</th>\n",
       "      <th>currency</th>\n",
       "      <th>fx_rate</th>\n",
       "      <th>goal</th>\n",
       "      <th>is_starrable</th>\n",
       "      <th>pledged</th>\n",
       "      <th>spotlight</th>\n",
       "      <th>state</th>\n",
       "      <th>static_usd_rate</th>\n",
       "      <th>usd_pledged</th>\n",
       "      <th>preparation_duration</th>\n",
       "      <th>launch_duration</th>\n",
       "    </tr>\n",
       "  </thead>\n",
       "  <tbody>\n",
       "    <tr>\n",
       "      <th>0</th>\n",
       "      <td>21</td>\n",
       "      <td>Rock</td>\n",
       "      <td>802</td>\n",
       "      <td>US</td>\n",
       "      <td>USD</td>\n",
       "      <td>1.000000</td>\n",
       "      <td>200.0</td>\n",
       "      <td>False</td>\n",
       "      <td>802.0</td>\n",
       "      <td>True</td>\n",
       "      <td>successful</td>\n",
       "      <td>1.000000</td>\n",
       "      <td>802.000000</td>\n",
       "      <td>351356</td>\n",
       "      <td>3888000</td>\n",
       "    </tr>\n",
       "    <tr>\n",
       "      <th>1</th>\n",
       "      <td>97</td>\n",
       "      <td>Mixed Media</td>\n",
       "      <td>2259</td>\n",
       "      <td>US</td>\n",
       "      <td>USD</td>\n",
       "      <td>1.000000</td>\n",
       "      <td>400.0</td>\n",
       "      <td>False</td>\n",
       "      <td>2259.0</td>\n",
       "      <td>True</td>\n",
       "      <td>successful</td>\n",
       "      <td>1.000000</td>\n",
       "      <td>2259.000000</td>\n",
       "      <td>413843</td>\n",
       "      <td>1728000</td>\n",
       "    </tr>\n",
       "    <tr>\n",
       "      <th>2</th>\n",
       "      <td>88</td>\n",
       "      <td>Photobooks</td>\n",
       "      <td>29638</td>\n",
       "      <td>US</td>\n",
       "      <td>USD</td>\n",
       "      <td>1.000000</td>\n",
       "      <td>27224.0</td>\n",
       "      <td>False</td>\n",
       "      <td>29638.0</td>\n",
       "      <td>True</td>\n",
       "      <td>successful</td>\n",
       "      <td>1.000000</td>\n",
       "      <td>29638.000000</td>\n",
       "      <td>769946</td>\n",
       "      <td>2595600</td>\n",
       "    </tr>\n",
       "    <tr>\n",
       "      <th>3</th>\n",
       "      <td>193</td>\n",
       "      <td>Footwear</td>\n",
       "      <td>49158</td>\n",
       "      <td>IT</td>\n",
       "      <td>EUR</td>\n",
       "      <td>1.128433</td>\n",
       "      <td>40000.0</td>\n",
       "      <td>False</td>\n",
       "      <td>43180.0</td>\n",
       "      <td>True</td>\n",
       "      <td>successful</td>\n",
       "      <td>1.136525</td>\n",
       "      <td>49075.152523</td>\n",
       "      <td>314662</td>\n",
       "      <td>3625358</td>\n",
       "    </tr>\n",
       "    <tr>\n",
       "      <th>4</th>\n",
       "      <td>20</td>\n",
       "      <td>Software</td>\n",
       "      <td>549</td>\n",
       "      <td>US</td>\n",
       "      <td>USD</td>\n",
       "      <td>1.000000</td>\n",
       "      <td>1000.0</td>\n",
       "      <td>False</td>\n",
       "      <td>549.0</td>\n",
       "      <td>False</td>\n",
       "      <td>failed</td>\n",
       "      <td>1.000000</td>\n",
       "      <td>549.000000</td>\n",
       "      <td>212500</td>\n",
       "      <td>2592000</td>\n",
       "    </tr>\n",
       "  </tbody>\n",
       "</table>\n",
       "</div>"
      ],
      "text/plain": [
       "   backers_count     category  converted_pledged_amount country currency  \\\n",
       "0             21         Rock                       802      US      USD   \n",
       "1             97  Mixed Media                      2259      US      USD   \n",
       "2             88   Photobooks                     29638      US      USD   \n",
       "3            193     Footwear                     49158      IT      EUR   \n",
       "4             20     Software                       549      US      USD   \n",
       "\n",
       "    fx_rate     goal  is_starrable  pledged  spotlight       state  \\\n",
       "0  1.000000    200.0         False    802.0       True  successful   \n",
       "1  1.000000    400.0         False   2259.0       True  successful   \n",
       "2  1.000000  27224.0         False  29638.0       True  successful   \n",
       "3  1.128433  40000.0         False  43180.0       True  successful   \n",
       "4  1.000000   1000.0         False    549.0      False      failed   \n",
       "\n",
       "   static_usd_rate   usd_pledged  preparation_duration  launch_duration  \n",
       "0         1.000000    802.000000                351356          3888000  \n",
       "1         1.000000   2259.000000                413843          1728000  \n",
       "2         1.000000  29638.000000                769946          2595600  \n",
       "3         1.136525  49075.152523                314662          3625358  \n",
       "4         1.000000    549.000000                212500          2592000  "
      ]
     },
     "execution_count": 6,
     "metadata": {},
     "output_type": "execute_result"
    }
   ],
   "source": [
    "# drop irrelevant or independent variables\n",
    "df.drop(['Unnamed: 0', 'blurb', 'created_at', 'currency_symbol', 'currency_trailing_code', 'current_currency',\n",
    "         'deadline', 'disable_communication', 'friends', 'id',\n",
    "         'is_backing', 'is_starred', 'launched_at', 'state_changed_at',\n",
    "         'name', 'permissions', 'profile', 'source_url', 'staff_pick', \n",
    "         'preparation_duration_r', 'launch_duration_r',\n",
    "         'created_at_readable', 'deadline_readable', 'launched_at_readable', \n",
    "         'location', 'usd_type'], axis = 1, inplace = True)\n",
    "df.head()"
   ]
  },
  {
   "cell_type": "code",
   "execution_count": 7,
   "metadata": {},
   "outputs": [],
   "source": [
    "df['state'] = df.state.str.contains('successful').astype(int)"
   ]
  },
  {
   "cell_type": "code",
   "execution_count": 8,
   "metadata": {},
   "outputs": [],
   "source": [
    "# add column representing continent\n",
    "def classifier(row):\n",
    "    if row.country in ['US', 'CA', 'GT', 'MX', 'PR', 'NI', 'SV', 'PA', 'BO', 'GU']:\n",
    "        return 'America'\n",
    "    elif row.country in ['NG', 'GH', 'ZA', 'KE', 'ET', 'CD', 'MA', 'TZ', 'ZM', 'LR', 'RW', 'ML', 'CM', 'NA', 'ZW', 'TN', 'SL', 'CF', 'UG', 'SD', 'SN', 'MW', 'MZ', 'LY', 'GN', 'SZ']:\n",
    "        return 'Africa'\n",
    "    elif row.country in ['GB', 'NO', 'DE', 'SE', 'BA', 'IS', 'HU', 'IT', 'NL','FR', 'UK', 'AT',\n",
    "       'TR','FI', 'CZ','AM', 'PT','DK','CH', 'SJ', 'RU', 'UA', 'BG','ES','PL', 'GE','IE','GR','RS','SI','BE','GL','RO','LT', 'FM','EE','CY', 'MK','KG',]:\n",
    "        return 'Europe'\n",
    "    elif row.country in ['JM', 'HT','BS','DO','LC', 'DO', 'TT']:\n",
    "        return 'Carribean'\n",
    "    elif row.country in ['CN', 'TW', 'HK', 'NP', 'ID', 'SG', 'IN', 'JP', 'LB', 'KZ', 'KR', 'PH', 'KH', 'TH','MY','BT','LK','BM','VN','BD', 'LA','GU']:\n",
    "        return 'Asia'\n",
    "    elif row.country in ['IL','QA', 'AF','KZ','AE','PS','SY','SA', 'IQ','IR','TJ',]:\n",
    "        return 'Arab'\n",
    "    else:\n",
    "        return \"Oceania\"   \n",
    "df[\"continent\"] = df.apply(classifier, axis=1)"
   ]
  },
  {
   "cell_type": "code",
   "execution_count": 9,
   "metadata": {
    "scrolled": true
   },
   "outputs": [
    {
     "data": {
      "text/html": [
       "<div>\n",
       "<style scoped>\n",
       "    .dataframe tbody tr th:only-of-type {\n",
       "        vertical-align: middle;\n",
       "    }\n",
       "\n",
       "    .dataframe tbody tr th {\n",
       "        vertical-align: top;\n",
       "    }\n",
       "\n",
       "    .dataframe thead th {\n",
       "        text-align: right;\n",
       "    }\n",
       "</style>\n",
       "<table border=\"1\" class=\"dataframe\">\n",
       "  <thead>\n",
       "    <tr style=\"text-align: right;\">\n",
       "      <th></th>\n",
       "      <th>backers_count</th>\n",
       "      <th>category</th>\n",
       "      <th>converted_pledged_amount</th>\n",
       "      <th>country</th>\n",
       "      <th>currency</th>\n",
       "      <th>fx_rate</th>\n",
       "      <th>goal</th>\n",
       "      <th>is_starrable</th>\n",
       "      <th>pledged</th>\n",
       "      <th>spotlight</th>\n",
       "      <th>state</th>\n",
       "      <th>static_usd_rate</th>\n",
       "      <th>usd_pledged</th>\n",
       "      <th>preparation_duration</th>\n",
       "      <th>launch_duration</th>\n",
       "      <th>continent</th>\n",
       "    </tr>\n",
       "  </thead>\n",
       "  <tbody>\n",
       "    <tr>\n",
       "      <th>0</th>\n",
       "      <td>21</td>\n",
       "      <td>Rock</td>\n",
       "      <td>802</td>\n",
       "      <td>US</td>\n",
       "      <td>USD</td>\n",
       "      <td>1.000000</td>\n",
       "      <td>200.0</td>\n",
       "      <td>False</td>\n",
       "      <td>802.0</td>\n",
       "      <td>True</td>\n",
       "      <td>1</td>\n",
       "      <td>1.000000</td>\n",
       "      <td>802.000000</td>\n",
       "      <td>351356</td>\n",
       "      <td>3888000</td>\n",
       "      <td>America</td>\n",
       "    </tr>\n",
       "    <tr>\n",
       "      <th>1</th>\n",
       "      <td>97</td>\n",
       "      <td>Mixed Media</td>\n",
       "      <td>2259</td>\n",
       "      <td>US</td>\n",
       "      <td>USD</td>\n",
       "      <td>1.000000</td>\n",
       "      <td>400.0</td>\n",
       "      <td>False</td>\n",
       "      <td>2259.0</td>\n",
       "      <td>True</td>\n",
       "      <td>1</td>\n",
       "      <td>1.000000</td>\n",
       "      <td>2259.000000</td>\n",
       "      <td>413843</td>\n",
       "      <td>1728000</td>\n",
       "      <td>America</td>\n",
       "    </tr>\n",
       "    <tr>\n",
       "      <th>2</th>\n",
       "      <td>88</td>\n",
       "      <td>Photobooks</td>\n",
       "      <td>29638</td>\n",
       "      <td>US</td>\n",
       "      <td>USD</td>\n",
       "      <td>1.000000</td>\n",
       "      <td>27224.0</td>\n",
       "      <td>False</td>\n",
       "      <td>29638.0</td>\n",
       "      <td>True</td>\n",
       "      <td>1</td>\n",
       "      <td>1.000000</td>\n",
       "      <td>29638.000000</td>\n",
       "      <td>769946</td>\n",
       "      <td>2595600</td>\n",
       "      <td>America</td>\n",
       "    </tr>\n",
       "    <tr>\n",
       "      <th>3</th>\n",
       "      <td>193</td>\n",
       "      <td>Footwear</td>\n",
       "      <td>49158</td>\n",
       "      <td>IT</td>\n",
       "      <td>EUR</td>\n",
       "      <td>1.128433</td>\n",
       "      <td>40000.0</td>\n",
       "      <td>False</td>\n",
       "      <td>43180.0</td>\n",
       "      <td>True</td>\n",
       "      <td>1</td>\n",
       "      <td>1.136525</td>\n",
       "      <td>49075.152523</td>\n",
       "      <td>314662</td>\n",
       "      <td>3625358</td>\n",
       "      <td>Europe</td>\n",
       "    </tr>\n",
       "    <tr>\n",
       "      <th>4</th>\n",
       "      <td>20</td>\n",
       "      <td>Software</td>\n",
       "      <td>549</td>\n",
       "      <td>US</td>\n",
       "      <td>USD</td>\n",
       "      <td>1.000000</td>\n",
       "      <td>1000.0</td>\n",
       "      <td>False</td>\n",
       "      <td>549.0</td>\n",
       "      <td>False</td>\n",
       "      <td>0</td>\n",
       "      <td>1.000000</td>\n",
       "      <td>549.000000</td>\n",
       "      <td>212500</td>\n",
       "      <td>2592000</td>\n",
       "      <td>America</td>\n",
       "    </tr>\n",
       "  </tbody>\n",
       "</table>\n",
       "</div>"
      ],
      "text/plain": [
       "   backers_count     category  converted_pledged_amount country currency  \\\n",
       "0             21         Rock                       802      US      USD   \n",
       "1             97  Mixed Media                      2259      US      USD   \n",
       "2             88   Photobooks                     29638      US      USD   \n",
       "3            193     Footwear                     49158      IT      EUR   \n",
       "4             20     Software                       549      US      USD   \n",
       "\n",
       "    fx_rate     goal  is_starrable  pledged  spotlight  state  \\\n",
       "0  1.000000    200.0         False    802.0       True      1   \n",
       "1  1.000000    400.0         False   2259.0       True      1   \n",
       "2  1.000000  27224.0         False  29638.0       True      1   \n",
       "3  1.128433  40000.0         False  43180.0       True      1   \n",
       "4  1.000000   1000.0         False    549.0      False      0   \n",
       "\n",
       "   static_usd_rate   usd_pledged  preparation_duration  launch_duration  \\\n",
       "0         1.000000    802.000000                351356          3888000   \n",
       "1         1.000000   2259.000000                413843          1728000   \n",
       "2         1.000000  29638.000000                769946          2595600   \n",
       "3         1.136525  49075.152523                314662          3625358   \n",
       "4         1.000000    549.000000                212500          2592000   \n",
       "\n",
       "  continent  \n",
       "0   America  \n",
       "1   America  \n",
       "2   America  \n",
       "3    Europe  \n",
       "4   America  "
      ]
     },
     "execution_count": 9,
     "metadata": {},
     "output_type": "execute_result"
    }
   ],
   "source": [
    "df.head()"
   ]
  },
  {
   "cell_type": "code",
   "execution_count": 10,
   "metadata": {},
   "outputs": [
    {
     "data": {
      "text/html": [
       "<div>\n",
       "<style scoped>\n",
       "    .dataframe tbody tr th:only-of-type {\n",
       "        vertical-align: middle;\n",
       "    }\n",
       "\n",
       "    .dataframe tbody tr th {\n",
       "        vertical-align: top;\n",
       "    }\n",
       "\n",
       "    .dataframe thead th {\n",
       "        text-align: right;\n",
       "    }\n",
       "</style>\n",
       "<table border=\"1\" class=\"dataframe\">\n",
       "  <thead>\n",
       "    <tr style=\"text-align: right;\">\n",
       "      <th></th>\n",
       "      <th>backers_count</th>\n",
       "      <th>category</th>\n",
       "      <th>converted_pledged_amount</th>\n",
       "      <th>country</th>\n",
       "      <th>currency</th>\n",
       "      <th>fx_rate</th>\n",
       "      <th>goal</th>\n",
       "      <th>is_starrable</th>\n",
       "      <th>pledged</th>\n",
       "      <th>spotlight</th>\n",
       "      <th>state</th>\n",
       "      <th>static_usd_rate</th>\n",
       "      <th>usd_pledged</th>\n",
       "      <th>preparation_duration</th>\n",
       "      <th>launch_duration</th>\n",
       "      <th>continent</th>\n",
       "    </tr>\n",
       "  </thead>\n",
       "  <tbody>\n",
       "    <tr>\n",
       "      <th>0</th>\n",
       "      <td>21</td>\n",
       "      <td>120</td>\n",
       "      <td>802</td>\n",
       "      <td>20</td>\n",
       "      <td>13</td>\n",
       "      <td>1.000000</td>\n",
       "      <td>200.0</td>\n",
       "      <td>0</td>\n",
       "      <td>802.0</td>\n",
       "      <td>1</td>\n",
       "      <td>1</td>\n",
       "      <td>1.000000</td>\n",
       "      <td>802.000000</td>\n",
       "      <td>351356</td>\n",
       "      <td>3888000</td>\n",
       "      <td>0</td>\n",
       "    </tr>\n",
       "    <tr>\n",
       "      <th>1</th>\n",
       "      <td>97</td>\n",
       "      <td>83</td>\n",
       "      <td>2259</td>\n",
       "      <td>20</td>\n",
       "      <td>13</td>\n",
       "      <td>1.000000</td>\n",
       "      <td>400.0</td>\n",
       "      <td>0</td>\n",
       "      <td>2259.0</td>\n",
       "      <td>1</td>\n",
       "      <td>1</td>\n",
       "      <td>1.000000</td>\n",
       "      <td>2259.000000</td>\n",
       "      <td>413843</td>\n",
       "      <td>1728000</td>\n",
       "      <td>0</td>\n",
       "    </tr>\n",
       "    <tr>\n",
       "      <th>2</th>\n",
       "      <td>88</td>\n",
       "      <td>99</td>\n",
       "      <td>29638</td>\n",
       "      <td>20</td>\n",
       "      <td>13</td>\n",
       "      <td>1.000000</td>\n",
       "      <td>27224.0</td>\n",
       "      <td>0</td>\n",
       "      <td>29638.0</td>\n",
       "      <td>1</td>\n",
       "      <td>1</td>\n",
       "      <td>1.000000</td>\n",
       "      <td>29638.000000</td>\n",
       "      <td>769946</td>\n",
       "      <td>2595600</td>\n",
       "      <td>0</td>\n",
       "    </tr>\n",
       "    <tr>\n",
       "      <th>3</th>\n",
       "      <td>193</td>\n",
       "      <td>59</td>\n",
       "      <td>49158</td>\n",
       "      <td>12</td>\n",
       "      <td>4</td>\n",
       "      <td>1.128433</td>\n",
       "      <td>40000.0</td>\n",
       "      <td>0</td>\n",
       "      <td>43180.0</td>\n",
       "      <td>1</td>\n",
       "      <td>1</td>\n",
       "      <td>1.136525</td>\n",
       "      <td>49075.152523</td>\n",
       "      <td>314662</td>\n",
       "      <td>3625358</td>\n",
       "      <td>2</td>\n",
       "    </tr>\n",
       "    <tr>\n",
       "      <th>4</th>\n",
       "      <td>20</td>\n",
       "      <td>126</td>\n",
       "      <td>549</td>\n",
       "      <td>20</td>\n",
       "      <td>13</td>\n",
       "      <td>1.000000</td>\n",
       "      <td>1000.0</td>\n",
       "      <td>0</td>\n",
       "      <td>549.0</td>\n",
       "      <td>0</td>\n",
       "      <td>0</td>\n",
       "      <td>1.000000</td>\n",
       "      <td>549.000000</td>\n",
       "      <td>212500</td>\n",
       "      <td>2592000</td>\n",
       "      <td>0</td>\n",
       "    </tr>\n",
       "  </tbody>\n",
       "</table>\n",
       "</div>"
      ],
      "text/plain": [
       "   backers_count  category  converted_pledged_amount  country  currency  \\\n",
       "0             21       120                       802       20        13   \n",
       "1             97        83                      2259       20        13   \n",
       "2             88        99                     29638       20        13   \n",
       "3            193        59                     49158       12         4   \n",
       "4             20       126                       549       20        13   \n",
       "\n",
       "    fx_rate     goal  is_starrable  pledged  spotlight  state  \\\n",
       "0  1.000000    200.0             0    802.0          1      1   \n",
       "1  1.000000    400.0             0   2259.0          1      1   \n",
       "2  1.000000  27224.0             0  29638.0          1      1   \n",
       "3  1.128433  40000.0             0  43180.0          1      1   \n",
       "4  1.000000   1000.0             0    549.0          0      0   \n",
       "\n",
       "   static_usd_rate   usd_pledged  preparation_duration  launch_duration  \\\n",
       "0         1.000000    802.000000                351356          3888000   \n",
       "1         1.000000   2259.000000                413843          1728000   \n",
       "2         1.000000  29638.000000                769946          2595600   \n",
       "3         1.136525  49075.152523                314662          3625358   \n",
       "4         1.000000    549.000000                212500          2592000   \n",
       "\n",
       "   continent  \n",
       "0          0  \n",
       "1          0  \n",
       "2          0  \n",
       "3          2  \n",
       "4          0  "
      ]
     },
     "execution_count": 10,
     "metadata": {},
     "output_type": "execute_result"
    }
   ],
   "source": [
    "from sklearn import preprocessing\n",
    "def encode_features(df):\n",
    "    features = ['category', 'country', 'currency', 'is_starrable', 'continent', 'spotlight']\n",
    "    df_combined = pd.concat([df])\n",
    "    \n",
    "    for feature in features:\n",
    "        le = preprocessing.LabelEncoder()\n",
    "        le = le.fit(df_combined[feature])\n",
    "        df[feature] = le.transform(df[feature])\n",
    "    return df\n",
    "    \n",
    "data = encode_features(df)\n",
    "data.head()"
   ]
  },
  {
   "cell_type": "code",
   "execution_count": 11,
   "metadata": {},
   "outputs": [
    {
     "data": {
      "text/plain": [
       "0    2677\n",
       "2     689\n",
       "3      98\n",
       "1      36\n",
       "Name: continent, dtype: int64"
      ]
     },
     "execution_count": 11,
     "metadata": {},
     "output_type": "execute_result"
    }
   ],
   "source": [
    "df.continent.value_counts()"
   ]
  },
  {
   "cell_type": "code",
   "execution_count": 12,
   "metadata": {},
   "outputs": [],
   "source": [
    "X = df.drop(['preparation_duration', 'launch_duration', 'state', 'backers_count', 'spotlight', 'pledged'], axis=1)\n",
    "y = df['state']"
   ]
  },
  {
   "cell_type": "code",
   "execution_count": 13,
   "metadata": {},
   "outputs": [],
   "source": [
    "from sklearn.preprocessing import Imputer\n",
    "X = Imputer().fit_transform(X)"
   ]
  },
  {
   "cell_type": "markdown",
   "metadata": {},
   "source": [
    "# kNN Model"
   ]
  },
  {
   "cell_type": "code",
   "execution_count": 14,
   "metadata": {},
   "outputs": [
    {
     "name": "stdout",
     "output_type": "stream",
     "text": [
      "Computed k_scores for k value in range 1 to 200.\n"
     ]
    }
   ],
   "source": [
    "k_range = range(1,200)\n",
    "k_scores = []\n",
    "for k in k_range:\n",
    "    knn = KNeighborsClassifier(n_neighbors=k)\n",
    "    scores = cross_val_score(knn, X, y, cv=10, scoring = 'accuracy')\n",
    "    k_scores.append(scores.mean())\n",
    "print('Computed k_scores for k value in range 1 to 200.')"
   ]
  },
  {
   "cell_type": "code",
   "execution_count": 15,
   "metadata": {},
   "outputs": [
    {
     "data": {
      "text/plain": [
       "0.9605670786816919"
      ]
     },
     "execution_count": 15,
     "metadata": {},
     "output_type": "execute_result"
    }
   ],
   "source": [
    "scores.mean()"
   ]
  },
  {
   "cell_type": "code",
   "execution_count": 16,
   "metadata": {},
   "outputs": [
    {
     "data": {
      "text/plain": [
       "0.9885386819484241"
      ]
     },
     "execution_count": 16,
     "metadata": {},
     "output_type": "execute_result"
    }
   ],
   "source": [
    "scores.max()"
   ]
  },
  {
   "cell_type": "code",
   "execution_count": 16,
   "metadata": {},
   "outputs": [
    {
     "data": {
      "text/plain": [
       "Text(0,0.5,'cross-validated accuracy')"
      ]
     },
     "execution_count": 16,
     "metadata": {},
     "output_type": "execute_result"
    },
    {
     "data": {
      "image/png": "[encoded data removed]",
      "text/plain": [
       "<Figure size 432x288 with 1 Axes>"
      ]
     },
     "metadata": {
      "needs_background": "light"
     },
     "output_type": "display_data"
    }
   ],
   "source": [
    "plt.plot(k_range, k_scores)\n",
    "plt.xlabel('value of k for knn')\n",
    "plt.ylabel('cross-validated accuracy')"
   ]
  },
  {
   "cell_type": "code",
   "execution_count": 17,
   "metadata": {},
   "outputs": [
    {
     "name": "stdout",
     "output_type": "stream",
     "text": [
      "The optimal number of neighbors is 10\n"
     ]
    }
   ],
   "source": [
    "MSE = [1 - x for x in k_scores]\n",
    "optimal_k = k_range[MSE.index(min(MSE))]\n",
    "print(\"The optimal number of neighbors is %d\" % optimal_k)"
   ]
  },
  {
   "cell_type": "markdown",
   "metadata": {},
   "source": [
    "# Logistic Regression Model"
   ]
  },
  {
   "cell_type": "code",
   "execution_count": 18,
   "metadata": {},
   "outputs": [
    {
     "data": {
      "text/plain": [
       "<matplotlib.axes._subplots.AxesSubplot at 0x1a187ffd30>"
      ]
     },
     "execution_count": 18,
     "metadata": {},
     "output_type": "execute_result"
    },
    {
     "data": {
      "image/png": "[encoded data removed]",
      "text/plain": [
       "<Figure size 432x288 with 1 Axes>"
      ]
     },
     "metadata": {
      "needs_background": "light"
     },
     "output_type": "display_data"
    }
   ],
   "source": [
    "df.state.value_counts().plot(kind = 'box')"
   ]
  },
  {
   "cell_type": "code",
   "execution_count": 19,
   "metadata": {},
   "outputs": [],
   "source": [
    "ss = StandardScaler()\n",
    "lr = LogisticRegression()\n",
    "lr_pipe = Pipeline([('sscale', ss), ('logreg', lr)])"
   ]
  },
  {
   "cell_type": "code",
   "execution_count": 20,
   "metadata": {},
   "outputs": [
    {
     "data": {
      "text/plain": [
       "Pipeline(memory=None,\n",
       "     steps=[('sscale', StandardScaler(copy=True, with_mean=True, with_std=True)), ('logreg', LogisticRegression(C=1.0, class_weight=None, dual=False, fit_intercept=True,\n",
       "          intercept_scaling=1, max_iter=100, multi_class='ovr', n_jobs=1,\n",
       "          penalty='l2', random_state=None, solver='liblinear', tol=0.0001,\n",
       "          verbose=0, warm_start=False))])"
      ]
     },
     "execution_count": 20,
     "metadata": {},
     "output_type": "execute_result"
    }
   ],
   "source": [
    "lr_pipe.fit(X, y)"
   ]
  },
  {
   "cell_type": "code",
   "execution_count": 21,
   "metadata": {},
   "outputs": [
    {
     "data": {
      "text/plain": [
       "0.838"
      ]
     },
     "execution_count": 21,
     "metadata": {},
     "output_type": "execute_result"
    }
   ],
   "source": [
    "lr_pipe.score(X,y)"
   ]
  },
  {
   "cell_type": "code",
   "execution_count": 22,
   "metadata": {},
   "outputs": [],
   "source": [
    "# divide the dataset into \n",
    "#  - 70% training data\n",
    "#  - 30% test data\n",
    "X_train, X_test, y_train, y_test = train_test_split(X, y, test_size = 0.30)"
   ]
  },
  {
   "cell_type": "code",
   "execution_count": 23,
   "metadata": {},
   "outputs": [
    {
     "data": {
      "text/plain": [
       "Pipeline(memory=None,\n",
       "     steps=[('sscale', StandardScaler(copy=True, with_mean=True, with_std=True)), ('logreg', LogisticRegression(C=1.0, class_weight=None, dual=False, fit_intercept=True,\n",
       "          intercept_scaling=1, max_iter=100, multi_class='ovr', n_jobs=1,\n",
       "          penalty='l2', random_state=None, solver='liblinear', tol=0.0001,\n",
       "          verbose=0, warm_start=False))])"
      ]
     },
     "execution_count": 23,
     "metadata": {},
     "output_type": "execute_result"
    }
   ],
   "source": [
    "lr_pipe.fit(X_train, y_train)"
   ]
  },
  {
   "cell_type": "code",
   "execution_count": 24,
   "metadata": {},
   "outputs": [
    {
     "data": {
      "text/plain": [
       "0.8133333333333334"
      ]
     },
     "execution_count": 24,
     "metadata": {},
     "output_type": "execute_result"
    }
   ],
   "source": [
    "lr_pipe.score(X_test, y_test) "
   ]
  },
  {
   "cell_type": "code",
   "execution_count": 25,
   "metadata": {},
   "outputs": [],
   "source": [
    "y_pred = lr_pipe.predict(X_test)"
   ]
  },
  {
   "cell_type": "code",
   "execution_count": 26,
   "metadata": {},
   "outputs": [],
   "source": [
    "from sklearn.metrics import accuracy_score, f1_score, precision_score, recall_score, classification_report, confusion_matrix"
   ]
  },
  {
   "cell_type": "code",
   "execution_count": 27,
   "metadata": {},
   "outputs": [
    {
     "name": "stdout",
     "output_type": "stream",
     "text": [
      "0.7979183032207384\n",
      "0.802507012622721\n",
      "0.794344333478072\n",
      "[[282 110]\n",
      " [ 86 572]]\n",
      "             precision    recall  f1-score   support\n",
      "\n",
      "          0       0.77      0.72      0.74       392\n",
      "          1       0.84      0.87      0.85       658\n",
      "\n",
      "avg / total       0.81      0.81      0.81      1050\n",
      "\n"
     ]
    }
   ],
   "source": [
    "print(f1_score(y_test, y_pred, average=\"macro\"))\n",
    "print(precision_score(y_test, y_pred, average=\"macro\"))\n",
    "print(recall_score(y_test, y_pred, average=\"macro\"))\n",
    "print(confusion_matrix(y_test,y_pred)) \n",
    "print(classification_report(y_test,y_pred))"
   ]
  },
  {
   "cell_type": "markdown",
   "metadata": {},
   "source": [
    "# Support Vector Machine"
   ]
  },
  {
   "cell_type": "code",
   "execution_count": null,
   "metadata": {},
   "outputs": [],
   "source": [
    "svclassifier = SVC(kernel='linear')  \n",
    "svclassifier.fit(X_train, y_train) "
   ]
  },
  {
   "cell_type": "code",
   "execution_count": 31,
   "metadata": {},
   "outputs": [],
   "source": [
    "y_pred = svclassifier.predict(X_test) "
   ]
  },
  {
   "cell_type": "code",
   "execution_count": 32,
   "metadata": {},
   "outputs": [
    {
     "name": "stdout",
     "output_type": "stream",
     "text": [
      "[[386   0]\n",
      " [  0 664]]\n",
      "             precision    recall  f1-score   support\n",
      "\n",
      "          0       1.00      1.00      1.00       386\n",
      "          1       1.00      1.00      1.00       664\n",
      "\n",
      "avg / total       1.00      1.00      1.00      1050\n",
      "\n"
     ]
    }
   ],
   "source": [
    "print(confusion_matrix(y_test,y_pred))  \n",
    "print(classification_report(y_test,y_pred))  "
   ]
  },
  {
   "cell_type": "markdown",
   "metadata": {},
   "source": [
    "# Naive Bayes"
   ]
  },
  {
   "cell_type": "code",
   "execution_count": 28,
   "metadata": {},
   "outputs": [],
   "source": [
    "gnb = GaussianNB()\n",
    "y_pred = gnb.fit(X_train, y_train).predict(X_test)"
   ]
  },
  {
   "cell_type": "code",
   "execution_count": 29,
   "metadata": {},
   "outputs": [
    {
     "name": "stdout",
     "output_type": "stream",
     "text": [
      "[[383   9]\n",
      " [479 179]]\n",
      "             precision    recall  f1-score   support\n",
      "\n",
      "          0       0.44      0.98      0.61       392\n",
      "          1       0.95      0.27      0.42       658\n",
      "\n",
      "avg / total       0.76      0.54      0.49      1050\n",
      "\n"
     ]
    }
   ],
   "source": [
    "print(confusion_matrix(y_test,y_pred))  \n",
    "print(classification_report(y_test,y_pred))  "
   ]
  },
  {
   "cell_type": "markdown",
   "metadata": {},
   "source": [
    "# Data Visualization"
   ]
  },
  {
   "cell_type": "code",
   "execution_count": 33,
   "metadata": {},
   "outputs": [
    {
     "name": "stderr",
     "output_type": "stream",
     "text": [
      "/anaconda3/lib/python3.7/site-packages/scipy/stats/stats.py:1713: FutureWarning: Using a non-tuple sequence for multidimensional indexing is deprecated; use `arr[tuple(seq)]` instead of `arr[seq]`. In the future this will be interpreted as an array index, `arr[np.array(seq)]`, which will result either in an error or a different result.\n",
      "  return np.add.reduce(sorted[indexer] * weights, axis=axis) / sumval\n"
     ]
    },
    {
     "data": {
      "image/png": "[encoded data removed]",
      "text/plain": [
       "<Figure size 582.375x540 with 12 Axes>"
      ]
     },
     "metadata": {
      "needs_background": "light"
     },
     "output_type": "display_data"
    }
   ],
   "source": [
    "plots = sns.pairplot(df, vars = ['backers_count', 'country', 'goal'], \n",
    "                     hue=\"state\")"
   ]
  },
  {
   "cell_type": "code",
   "execution_count": 34,
   "metadata": {},
   "outputs": [
    {
     "data": {
      "text/html": [
       "<div>\n",
       "<style scoped>\n",
       "    .dataframe tbody tr th:only-of-type {\n",
       "        vertical-align: middle;\n",
       "    }\n",
       "\n",
       "    .dataframe tbody tr th {\n",
       "        vertical-align: top;\n",
       "    }\n",
       "\n",
       "    .dataframe thead th {\n",
       "        text-align: right;\n",
       "    }\n",
       "</style>\n",
       "<table border=\"1\" class=\"dataframe\">\n",
       "  <thead>\n",
       "    <tr style=\"text-align: right;\">\n",
       "      <th></th>\n",
       "      <th>backers_count</th>\n",
       "      <th>category</th>\n",
       "      <th>converted_pledged_amount</th>\n",
       "      <th>country</th>\n",
       "      <th>currency</th>\n",
       "      <th>fx_rate</th>\n",
       "      <th>goal</th>\n",
       "      <th>pledged</th>\n",
       "      <th>spotlight</th>\n",
       "      <th>state</th>\n",
       "      <th>static_usd_rate</th>\n",
       "      <th>usd_pledged</th>\n",
       "      <th>preparation_duration</th>\n",
       "      <th>launch_duration</th>\n",
       "      <th>continent</th>\n",
       "    </tr>\n",
       "  </thead>\n",
       "  <tbody>\n",
       "    <tr>\n",
       "      <th>backers_count</th>\n",
       "      <td>1.000000</td>\n",
       "      <td>0.074279</td>\n",
       "      <td>0.855609</td>\n",
       "      <td>0.031723</td>\n",
       "      <td>0.027896</td>\n",
       "      <td>-0.023226</td>\n",
       "      <td>0.330618</td>\n",
       "      <td>0.357206</td>\n",
       "      <td>0.174372</td>\n",
       "      <td>0.174372</td>\n",
       "      <td>-0.031860</td>\n",
       "      <td>0.855154</td>\n",
       "      <td>0.051476</td>\n",
       "      <td>0.043758</td>\n",
       "      <td>-0.023403</td>\n",
       "    </tr>\n",
       "    <tr>\n",
       "      <th>category</th>\n",
       "      <td>0.074279</td>\n",
       "      <td>1.000000</td>\n",
       "      <td>0.056564</td>\n",
       "      <td>-0.007631</td>\n",
       "      <td>-0.011621</td>\n",
       "      <td>-0.007235</td>\n",
       "      <td>0.039287</td>\n",
       "      <td>0.034792</td>\n",
       "      <td>-0.062161</td>\n",
       "      <td>-0.062161</td>\n",
       "      <td>-0.006960</td>\n",
       "      <td>0.056879</td>\n",
       "      <td>-0.007718</td>\n",
       "      <td>0.028363</td>\n",
       "      <td>0.023315</td>\n",
       "    </tr>\n",
       "    <tr>\n",
       "      <th>converted_pledged_amount</th>\n",
       "      <td>0.855609</td>\n",
       "      <td>0.056564</td>\n",
       "      <td>1.000000</td>\n",
       "      <td>0.031882</td>\n",
       "      <td>0.027261</td>\n",
       "      <td>-0.008231</td>\n",
       "      <td>0.198685</td>\n",
       "      <td>0.229725</td>\n",
       "      <td>0.140590</td>\n",
       "      <td>0.140590</td>\n",
       "      <td>-0.015069</td>\n",
       "      <td>0.999866</td>\n",
       "      <td>0.061744</td>\n",
       "      <td>0.051582</td>\n",
       "      <td>-0.015755</td>\n",
       "    </tr>\n",
       "    <tr>\n",
       "      <th>country</th>\n",
       "      <td>0.031723</td>\n",
       "      <td>-0.007631</td>\n",
       "      <td>0.031882</td>\n",
       "      <td>1.000000</td>\n",
       "      <td>0.984185</td>\n",
       "      <td>0.005072</td>\n",
       "      <td>-0.015072</td>\n",
       "      <td>-0.011316</td>\n",
       "      <td>0.047634</td>\n",
       "      <td>0.047634</td>\n",
       "      <td>-0.102557</td>\n",
       "      <td>0.031217</td>\n",
       "      <td>0.026465</td>\n",
       "      <td>-0.016174</td>\n",
       "      <td>-0.746953</td>\n",
       "    </tr>\n",
       "    <tr>\n",
       "      <th>currency</th>\n",
       "      <td>0.027896</td>\n",
       "      <td>-0.011621</td>\n",
       "      <td>0.027261</td>\n",
       "      <td>0.984185</td>\n",
       "      <td>1.000000</td>\n",
       "      <td>0.001718</td>\n",
       "      <td>-0.020479</td>\n",
       "      <td>-0.016289</td>\n",
       "      <td>0.048726</td>\n",
       "      <td>0.048726</td>\n",
       "      <td>-0.106477</td>\n",
       "      <td>0.026642</td>\n",
       "      <td>0.028097</td>\n",
       "      <td>-0.018033</td>\n",
       "      <td>-0.773095</td>\n",
       "    </tr>\n",
       "    <tr>\n",
       "      <th>fx_rate</th>\n",
       "      <td>-0.023226</td>\n",
       "      <td>-0.007235</td>\n",
       "      <td>-0.008231</td>\n",
       "      <td>0.005072</td>\n",
       "      <td>0.001718</td>\n",
       "      <td>1.000000</td>\n",
       "      <td>-0.111385</td>\n",
       "      <td>-0.107551</td>\n",
       "      <td>0.002059</td>\n",
       "      <td>0.002059</td>\n",
       "      <td>0.963558</td>\n",
       "      <td>-0.008874</td>\n",
       "      <td>-0.002326</td>\n",
       "      <td>-0.025344</td>\n",
       "      <td>0.195684</td>\n",
       "    </tr>\n",
       "    <tr>\n",
       "      <th>goal</th>\n",
       "      <td>0.330618</td>\n",
       "      <td>0.039287</td>\n",
       "      <td>0.198685</td>\n",
       "      <td>-0.015072</td>\n",
       "      <td>-0.020479</td>\n",
       "      <td>-0.111385</td>\n",
       "      <td>1.000000</td>\n",
       "      <td>0.991735</td>\n",
       "      <td>-0.000156</td>\n",
       "      <td>-0.000156</td>\n",
       "      <td>-0.102855</td>\n",
       "      <td>0.204915</td>\n",
       "      <td>0.009646</td>\n",
       "      <td>0.020797</td>\n",
       "      <td>0.015929</td>\n",
       "    </tr>\n",
       "    <tr>\n",
       "      <th>pledged</th>\n",
       "      <td>0.357206</td>\n",
       "      <td>0.034792</td>\n",
       "      <td>0.229725</td>\n",
       "      <td>-0.011316</td>\n",
       "      <td>-0.016289</td>\n",
       "      <td>-0.107551</td>\n",
       "      <td>0.991735</td>\n",
       "      <td>1.000000</td>\n",
       "      <td>0.023665</td>\n",
       "      <td>0.023665</td>\n",
       "      <td>-0.099714</td>\n",
       "      <td>0.235897</td>\n",
       "      <td>0.010948</td>\n",
       "      <td>0.011791</td>\n",
       "      <td>0.012159</td>\n",
       "    </tr>\n",
       "    <tr>\n",
       "      <th>spotlight</th>\n",
       "      <td>0.174372</td>\n",
       "      <td>-0.062161</td>\n",
       "      <td>0.140590</td>\n",
       "      <td>0.047634</td>\n",
       "      <td>0.048726</td>\n",
       "      <td>0.002059</td>\n",
       "      <td>-0.000156</td>\n",
       "      <td>0.023665</td>\n",
       "      <td>1.000000</td>\n",
       "      <td>1.000000</td>\n",
       "      <td>-0.004343</td>\n",
       "      <td>0.140219</td>\n",
       "      <td>0.012206</td>\n",
       "      <td>-0.144859</td>\n",
       "      <td>-0.043037</td>\n",
       "    </tr>\n",
       "    <tr>\n",
       "      <th>state</th>\n",
       "      <td>0.174372</td>\n",
       "      <td>-0.062161</td>\n",
       "      <td>0.140590</td>\n",
       "      <td>0.047634</td>\n",
       "      <td>0.048726</td>\n",
       "      <td>0.002059</td>\n",
       "      <td>-0.000156</td>\n",
       "      <td>0.023665</td>\n",
       "      <td>1.000000</td>\n",
       "      <td>1.000000</td>\n",
       "      <td>-0.004343</td>\n",
       "      <td>0.140219</td>\n",
       "      <td>0.012206</td>\n",
       "      <td>-0.144859</td>\n",
       "      <td>-0.043037</td>\n",
       "    </tr>\n",
       "    <tr>\n",
       "      <th>static_usd_rate</th>\n",
       "      <td>-0.031860</td>\n",
       "      <td>-0.006960</td>\n",
       "      <td>-0.015069</td>\n",
       "      <td>-0.102557</td>\n",
       "      <td>-0.106477</td>\n",
       "      <td>0.963558</td>\n",
       "      <td>-0.102855</td>\n",
       "      <td>-0.099714</td>\n",
       "      <td>-0.004343</td>\n",
       "      <td>-0.004343</td>\n",
       "      <td>1.000000</td>\n",
       "      <td>-0.015418</td>\n",
       "      <td>-0.008198</td>\n",
       "      <td>-0.025125</td>\n",
       "      <td>0.285074</td>\n",
       "    </tr>\n",
       "    <tr>\n",
       "      <th>usd_pledged</th>\n",
       "      <td>0.855154</td>\n",
       "      <td>0.056879</td>\n",
       "      <td>0.999866</td>\n",
       "      <td>0.031217</td>\n",
       "      <td>0.026642</td>\n",
       "      <td>-0.008874</td>\n",
       "      <td>0.204915</td>\n",
       "      <td>0.235897</td>\n",
       "      <td>0.140219</td>\n",
       "      <td>0.140219</td>\n",
       "      <td>-0.015418</td>\n",
       "      <td>1.000000</td>\n",
       "      <td>0.061616</td>\n",
       "      <td>0.051350</td>\n",
       "      <td>-0.015234</td>\n",
       "    </tr>\n",
       "    <tr>\n",
       "      <th>preparation_duration</th>\n",
       "      <td>0.051476</td>\n",
       "      <td>-0.007718</td>\n",
       "      <td>0.061744</td>\n",
       "      <td>0.026465</td>\n",
       "      <td>0.028097</td>\n",
       "      <td>-0.002326</td>\n",
       "      <td>0.009646</td>\n",
       "      <td>0.010948</td>\n",
       "      <td>0.012206</td>\n",
       "      <td>0.012206</td>\n",
       "      <td>-0.008198</td>\n",
       "      <td>0.061616</td>\n",
       "      <td>1.000000</td>\n",
       "      <td>0.029690</td>\n",
       "      <td>-0.026049</td>\n",
       "    </tr>\n",
       "    <tr>\n",
       "      <th>launch_duration</th>\n",
       "      <td>0.043758</td>\n",
       "      <td>0.028363</td>\n",
       "      <td>0.051582</td>\n",
       "      <td>-0.016174</td>\n",
       "      <td>-0.018033</td>\n",
       "      <td>-0.025344</td>\n",
       "      <td>0.020797</td>\n",
       "      <td>0.011791</td>\n",
       "      <td>-0.144859</td>\n",
       "      <td>-0.144859</td>\n",
       "      <td>-0.025125</td>\n",
       "      <td>0.051350</td>\n",
       "      <td>0.029690</td>\n",
       "      <td>1.000000</td>\n",
       "      <td>-0.006020</td>\n",
       "    </tr>\n",
       "    <tr>\n",
       "      <th>continent</th>\n",
       "      <td>-0.023403</td>\n",
       "      <td>0.023315</td>\n",
       "      <td>-0.015755</td>\n",
       "      <td>-0.746953</td>\n",
       "      <td>-0.773095</td>\n",
       "      <td>0.195684</td>\n",
       "      <td>0.015929</td>\n",
       "      <td>0.012159</td>\n",
       "      <td>-0.043037</td>\n",
       "      <td>-0.043037</td>\n",
       "      <td>0.285074</td>\n",
       "      <td>-0.015234</td>\n",
       "      <td>-0.026049</td>\n",
       "      <td>-0.006020</td>\n",
       "      <td>1.000000</td>\n",
       "    </tr>\n",
       "  </tbody>\n",
       "</table>\n",
       "</div>"
      ],
      "text/plain": [
       "                          backers_count  category  converted_pledged_amount  \\\n",
       "backers_count                  1.000000  0.074279                  0.855609   \n",
       "category                       0.074279  1.000000                  0.056564   \n",
       "converted_pledged_amount       0.855609  0.056564                  1.000000   \n",
       "country                        0.031723 -0.007631                  0.031882   \n",
       "currency                       0.027896 -0.011621                  0.027261   \n",
       "fx_rate                       -0.023226 -0.007235                 -0.008231   \n",
       "goal                           0.330618  0.039287                  0.198685   \n",
       "pledged                        0.357206  0.034792                  0.229725   \n",
       "spotlight                      0.174372 -0.062161                  0.140590   \n",
       "state                          0.174372 -0.062161                  0.140590   \n",
       "static_usd_rate               -0.031860 -0.006960                 -0.015069   \n",
       "usd_pledged                    0.855154  0.056879                  0.999866   \n",
       "preparation_duration           0.051476 -0.007718                  0.061744   \n",
       "launch_duration                0.043758  0.028363                  0.051582   \n",
       "continent                     -0.023403  0.023315                 -0.015755   \n",
       "\n",
       "                           country  currency   fx_rate      goal   pledged  \\\n",
       "backers_count             0.031723  0.027896 -0.023226  0.330618  0.357206   \n",
       "category                 -0.007631 -0.011621 -0.007235  0.039287  0.034792   \n",
       "converted_pledged_amount  0.031882  0.027261 -0.008231  0.198685  0.229725   \n",
       "country                   1.000000  0.984185  0.005072 -0.015072 -0.011316   \n",
       "currency                  0.984185  1.000000  0.001718 -0.020479 -0.016289   \n",
       "fx_rate                   0.005072  0.001718  1.000000 -0.111385 -0.107551   \n",
       "goal                     -0.015072 -0.020479 -0.111385  1.000000  0.991735   \n",
       "pledged                  -0.011316 -0.016289 -0.107551  0.991735  1.000000   \n",
       "spotlight                 0.047634  0.048726  0.002059 -0.000156  0.023665   \n",
       "state                     0.047634  0.048726  0.002059 -0.000156  0.023665   \n",
       "static_usd_rate          -0.102557 -0.106477  0.963558 -0.102855 -0.099714   \n",
       "usd_pledged               0.031217  0.026642 -0.008874  0.204915  0.235897   \n",
       "preparation_duration      0.026465  0.028097 -0.002326  0.009646  0.010948   \n",
       "launch_duration          -0.016174 -0.018033 -0.025344  0.020797  0.011791   \n",
       "continent                -0.746953 -0.773095  0.195684  0.015929  0.012159   \n",
       "\n",
       "                          spotlight     state  static_usd_rate  usd_pledged  \\\n",
       "backers_count              0.174372  0.174372        -0.031860     0.855154   \n",
       "category                  -0.062161 -0.062161        -0.006960     0.056879   \n",
       "converted_pledged_amount   0.140590  0.140590        -0.015069     0.999866   \n",
       "country                    0.047634  0.047634        -0.102557     0.031217   \n",
       "currency                   0.048726  0.048726        -0.106477     0.026642   \n",
       "fx_rate                    0.002059  0.002059         0.963558    -0.008874   \n",
       "goal                      -0.000156 -0.000156        -0.102855     0.204915   \n",
       "pledged                    0.023665  0.023665        -0.099714     0.235897   \n",
       "spotlight                  1.000000  1.000000        -0.004343     0.140219   \n",
       "state                      1.000000  1.000000        -0.004343     0.140219   \n",
       "static_usd_rate           -0.004343 -0.004343         1.000000    -0.015418   \n",
       "usd_pledged                0.140219  0.140219        -0.015418     1.000000   \n",
       "preparation_duration       0.012206  0.012206        -0.008198     0.061616   \n",
       "launch_duration           -0.144859 -0.144859        -0.025125     0.051350   \n",
       "continent                 -0.043037 -0.043037         0.285074    -0.015234   \n",
       "\n",
       "                          preparation_duration  launch_duration  continent  \n",
       "backers_count                         0.051476         0.043758  -0.023403  \n",
       "category                             -0.007718         0.028363   0.023315  \n",
       "converted_pledged_amount              0.061744         0.051582  -0.015755  \n",
       "country                               0.026465        -0.016174  -0.746953  \n",
       "currency                              0.028097        -0.018033  -0.773095  \n",
       "fx_rate                              -0.002326        -0.025344   0.195684  \n",
       "goal                                  0.009646         0.020797   0.015929  \n",
       "pledged                               0.010948         0.011791   0.012159  \n",
       "spotlight                             0.012206        -0.144859  -0.043037  \n",
       "state                                 0.012206        -0.144859  -0.043037  \n",
       "static_usd_rate                      -0.008198        -0.025125   0.285074  \n",
       "usd_pledged                           0.061616         0.051350  -0.015234  \n",
       "preparation_duration                  1.000000         0.029690  -0.026049  \n",
       "launch_duration                       0.029690         1.000000  -0.006020  \n",
       "continent                            -0.026049        -0.006020   1.000000  "
      ]
     },
     "execution_count": 34,
     "metadata": {},
     "output_type": "execute_result"
    }
   ],
   "source": [
    "df = df.drop(['is_starrable'], axis=1)\n",
    "corr = df.corr()\n",
    "corr"
   ]
  },
  {
   "cell_type": "code",
   "execution_count": 35,
   "metadata": {},
   "outputs": [
    {
     "data": {
      "text/plain": [
       "<matplotlib.axes._subplots.AxesSubplot at 0x1a1b3e6358>"
      ]
     },
     "execution_count": 35,
     "metadata": {},
     "output_type": "execute_result"
    },
    {
     "data": {
      "image/png": "[encoded data removed]",
      "text/plain": [
       "<Figure size 432x288 with 2 Axes>"
      ]
     },
     "metadata": {
      "needs_background": "light"
     },
     "output_type": "display_data"
    }
   ],
   "source": [
    "sns.heatmap(corr, xticklabels=corr.columns, yticklabels=corr.columns)"
   ]
  },
  {
   "cell_type": "markdown",
   "metadata": {},
   "source": [
    "# Citation\n",
    "Lamidi, Adebola, and Adebola Lamidi. “Predicting the Success of Kickstarter Campaigns.” Towards Data Science, Towards Data Science, 20 Sept. 2017, towardsdatascience.com/predicting-the-success-of-kickstarter-campaigns-3f4a976419b9.\n",
    "\n",
    "“Kickstarter: Exploratory Data Analysis with R.” Kaggle, kaggle.com/andrewjmah/kickstarter-exploratory-data-analysis-with-r.\n",
    "\n",
    "“Kickstarter Datasets.” Web Scraping Service, webrobots.io/kickstarter-datasets/.\n",
    "\n",
    "Patel, Savan, and Savan Patel. “Chapter 2 : SVM (Support Vector Machine) - Theory.” Medium, Machine Learning 101, 3 May 2017, medium.com/machine-learning-101/chapter-2-svm-support-vector-machine-theory-f0812effc72.\n",
    "\n",
    "“1.9. Naive Bayes¶.” Scikit, scikit-learn.org/stable/modules/naive_bayes.html.\n",
    "\n",
    "“Documentation.” Matplotlib, matplotlib.org/."
   ]
  }
 ],
 "metadata": {
  "kernelspec": {
   "display_name": "Python 3",
   "language": "python",
   "name": "python3"
  },
  "language_info": {
   "codemirror_mode": {
    "name": "ipython",
    "version": 3
   },
   "file_extension": ".py",
   "mimetype": "text/x-python",
   "name": "python",
   "nbconvert_exporter": "python",
   "pygments_lexer": "ipython3",
   "version": "3.7.0"
  }
 },
 "nbformat": 4,
 "nbformat_minor": 2
}
