{
 "cells": [
  {
   "cell_type": "markdown",
   "metadata": {},
   "source": [
    "# KickstarterProject\n",
    "Using kNN, linear regression model to predict success rate of crowdfunding."
   ]
  },
  {
   "cell_type": "code",
   "execution_count": 140,
   "metadata": {},
   "outputs": [],
   "source": [
    "import re\n",
    "import pandas as pd\n",
    "import numpy as np\n",
    "import seaborn as sns\n",
    "import datetime\n",
    "import matplotlib.pyplot as plt\n",
    "from sklearn.pipeline import Pipeline, FeatureUnion\n",
    "from sklearn.pipeline import make_pipeline\n",
    "from sklearn.model_selection import train_test_split\n",
    "\n",
    "from sklearn.metrics import make_scorer, accuracy_score\n",
    "from sklearn.model_selection import GridSearchCV\n",
    "from sklearn.preprocessing import StandardScaler\n",
    "from sklearn.linear_model import LogisticRegression\n",
    "from sklearn.neighbors import KNeighborsClassifier\n",
    "\n",
    "%matplotlib inline"
   ]
  },
  {
   "cell_type": "markdown",
   "metadata": {},
   "source": [
    "## Data Cleaning & Processing"
   ]
  },
  {
   "cell_type": "code",
   "execution_count": 141,
   "metadata": {},
   "outputs": [
    {
     "data": {
      "text/html": [
       "<div>\n",
       "<style scoped>\n",
       "    .dataframe tbody tr th:only-of-type {\n",
       "        vertical-align: middle;\n",
       "    }\n",
       "\n",
       "    .dataframe tbody tr th {\n",
       "        vertical-align: top;\n",
       "    }\n",
       "\n",
       "    .dataframe thead th {\n",
       "        text-align: right;\n",
       "    }\n",
       "</style>\n",
       "<table border=\"1\" class=\"dataframe\">\n",
       "  <thead>\n",
       "    <tr style=\"text-align: right;\">\n",
       "      <th></th>\n",
       "      <th>Unnamed: 0</th>\n",
       "      <th>backers_count</th>\n",
       "      <th>blurb</th>\n",
       "      <th>category</th>\n",
       "      <th>converted_pledged_amount</th>\n",
       "      <th>country</th>\n",
       "      <th>created_at</th>\n",
       "      <th>currency</th>\n",
       "      <th>currency_symbol</th>\n",
       "      <th>currency_trailing_code</th>\n",
       "      <th>...</th>\n",
       "      <th>static_usd_rate</th>\n",
       "      <th>usd_pledged</th>\n",
       "      <th>usd_type</th>\n",
       "      <th>preparation_duration</th>\n",
       "      <th>preparation_duration_r</th>\n",
       "      <th>launch_duration</th>\n",
       "      <th>launch_duration_r</th>\n",
       "      <th>created_at_readable</th>\n",
       "      <th>deadline_readable</th>\n",
       "      <th>launched_at_readable</th>\n",
       "    </tr>\n",
       "  </thead>\n",
       "  <tbody>\n",
       "    <tr>\n",
       "      <th>0</th>\n",
       "      <td>1</td>\n",
       "      <td>21</td>\n",
       "      <td>2006 was almost 7 years ago.... Can you believ...</td>\n",
       "      <td>Rock</td>\n",
       "      <td>802</td>\n",
       "      <td>US</td>\n",
       "      <td>1387659690</td>\n",
       "      <td>USD</td>\n",
       "      <td>$</td>\n",
       "      <td>True</td>\n",
       "      <td>...</td>\n",
       "      <td>1.0</td>\n",
       "      <td>802.0</td>\n",
       "      <td>international</td>\n",
       "      <td>351356</td>\n",
       "      <td>4d 1H 35M 56S</td>\n",
       "      <td>3888000</td>\n",
       "      <td>45d 0H 0M 0S</td>\n",
       "      <td>2013-12-21 16:01:30</td>\n",
       "      <td>2014-02-08 17:37:26</td>\n",
       "      <td>2013-12-25 17:37:26</td>\n",
       "    </tr>\n",
       "  </tbody>\n",
       "</table>\n",
       "<p>1 rows × 41 columns</p>\n",
       "</div>"
      ],
      "text/plain": [
       "   Unnamed: 0  backers_count  \\\n",
       "0           1             21   \n",
       "\n",
       "                                               blurb category  \\\n",
       "0  2006 was almost 7 years ago.... Can you believ...     Rock   \n",
       "\n",
       "   converted_pledged_amount country  created_at currency currency_symbol  \\\n",
       "0                       802      US  1387659690      USD               $   \n",
       "\n",
       "   currency_trailing_code         ...          static_usd_rate  usd_pledged  \\\n",
       "0                    True         ...                      1.0        802.0   \n",
       "\n",
       "        usd_type preparation_duration  preparation_duration_r  \\\n",
       "0  international               351356           4d 1H 35M 56S   \n",
       "\n",
       "   launch_duration  launch_duration_r  created_at_readable  \\\n",
       "0          3888000       45d 0H 0M 0S  2013-12-21 16:01:30   \n",
       "\n",
       "     deadline_readable launched_at_readable  \n",
       "0  2014-02-08 17:37:26  2013-12-25 17:37:26  \n",
       "\n",
       "[1 rows x 41 columns]"
      ]
     },
     "execution_count": 141,
     "metadata": {},
     "output_type": "execute_result"
    }
   ],
   "source": [
    "df = pd.read_csv('./data/data.csv')\n",
    "df.head(1)"
   ]
  },
  {
   "cell_type": "code",
   "execution_count": 142,
   "metadata": {},
   "outputs": [
    {
     "data": {
      "text/plain": [
       "(3779, 41)"
      ]
     },
     "execution_count": 142,
     "metadata": {},
     "output_type": "execute_result"
    }
   ],
   "source": [
    "df.shape"
   ]
  },
  {
   "cell_type": "code",
   "execution_count": 143,
   "metadata": {},
   "outputs": [
    {
     "data": {
      "text/plain": [
       "successful    2224\n",
       "failed        1276\n",
       "canceled       149\n",
       "live           120\n",
       "suspended       10\n",
       "Name: state, dtype: int64"
      ]
     },
     "execution_count": 143,
     "metadata": {},
     "output_type": "execute_result"
    }
   ],
   "source": [
    "df.state.value_counts()"
   ]
  },
  {
   "cell_type": "code",
   "execution_count": 144,
   "metadata": {},
   "outputs": [
    {
     "data": {
      "text/plain": [
       "(3500, 41)"
      ]
     },
     "execution_count": 144,
     "metadata": {},
     "output_type": "execute_result"
    }
   ],
   "source": [
    "# drop status rows labeled as live, canceled, suspended.\n",
    "df = df[~df['state'].isin(['live', 'canceled', 'suspended'])]\n",
    "df.shape"
   ]
  },
  {
   "cell_type": "code",
   "execution_count": 147,
   "metadata": {},
   "outputs": [
    {
     "data": {
      "text/html": [
       "<div>\n",
       "<style scoped>\n",
       "    .dataframe tbody tr th:only-of-type {\n",
       "        vertical-align: middle;\n",
       "    }\n",
       "\n",
       "    .dataframe tbody tr th {\n",
       "        vertical-align: top;\n",
       "    }\n",
       "\n",
       "    .dataframe thead th {\n",
       "        text-align: right;\n",
       "    }\n",
       "</style>\n",
       "<table border=\"1\" class=\"dataframe\">\n",
       "  <thead>\n",
       "    <tr style=\"text-align: right;\">\n",
       "      <th></th>\n",
       "      <th>backers_count</th>\n",
       "      <th>category</th>\n",
       "      <th>converted_pledged_amount</th>\n",
       "      <th>country</th>\n",
       "      <th>currency</th>\n",
       "      <th>fx_rate</th>\n",
       "      <th>goal</th>\n",
       "      <th>is_starrable</th>\n",
       "      <th>pledged</th>\n",
       "      <th>spotlight</th>\n",
       "      <th>state</th>\n",
       "      <th>static_usd_rate</th>\n",
       "      <th>usd_pledged</th>\n",
       "      <th>preparation_duration</th>\n",
       "      <th>launch_duration</th>\n",
       "    </tr>\n",
       "  </thead>\n",
       "  <tbody>\n",
       "    <tr>\n",
       "      <th>0</th>\n",
       "      <td>21</td>\n",
       "      <td>Rock</td>\n",
       "      <td>802</td>\n",
       "      <td>US</td>\n",
       "      <td>USD</td>\n",
       "      <td>1.000000</td>\n",
       "      <td>200.0</td>\n",
       "      <td>False</td>\n",
       "      <td>802.0</td>\n",
       "      <td>True</td>\n",
       "      <td>successful</td>\n",
       "      <td>1.000000</td>\n",
       "      <td>802.000000</td>\n",
       "      <td>351356</td>\n",
       "      <td>3888000</td>\n",
       "    </tr>\n",
       "    <tr>\n",
       "      <th>1</th>\n",
       "      <td>97</td>\n",
       "      <td>Mixed Media</td>\n",
       "      <td>2259</td>\n",
       "      <td>US</td>\n",
       "      <td>USD</td>\n",
       "      <td>1.000000</td>\n",
       "      <td>400.0</td>\n",
       "      <td>False</td>\n",
       "      <td>2259.0</td>\n",
       "      <td>True</td>\n",
       "      <td>successful</td>\n",
       "      <td>1.000000</td>\n",
       "      <td>2259.000000</td>\n",
       "      <td>413843</td>\n",
       "      <td>1728000</td>\n",
       "    </tr>\n",
       "    <tr>\n",
       "      <th>2</th>\n",
       "      <td>88</td>\n",
       "      <td>Photobooks</td>\n",
       "      <td>29638</td>\n",
       "      <td>US</td>\n",
       "      <td>USD</td>\n",
       "      <td>1.000000</td>\n",
       "      <td>27224.0</td>\n",
       "      <td>False</td>\n",
       "      <td>29638.0</td>\n",
       "      <td>True</td>\n",
       "      <td>successful</td>\n",
       "      <td>1.000000</td>\n",
       "      <td>29638.000000</td>\n",
       "      <td>769946</td>\n",
       "      <td>2595600</td>\n",
       "    </tr>\n",
       "    <tr>\n",
       "      <th>3</th>\n",
       "      <td>193</td>\n",
       "      <td>Footwear</td>\n",
       "      <td>49158</td>\n",
       "      <td>IT</td>\n",
       "      <td>EUR</td>\n",
       "      <td>1.128433</td>\n",
       "      <td>40000.0</td>\n",
       "      <td>False</td>\n",
       "      <td>43180.0</td>\n",
       "      <td>True</td>\n",
       "      <td>successful</td>\n",
       "      <td>1.136525</td>\n",
       "      <td>49075.152523</td>\n",
       "      <td>314662</td>\n",
       "      <td>3625358</td>\n",
       "    </tr>\n",
       "    <tr>\n",
       "      <th>4</th>\n",
       "      <td>20</td>\n",
       "      <td>Software</td>\n",
       "      <td>549</td>\n",
       "      <td>US</td>\n",
       "      <td>USD</td>\n",
       "      <td>1.000000</td>\n",
       "      <td>1000.0</td>\n",
       "      <td>False</td>\n",
       "      <td>549.0</td>\n",
       "      <td>False</td>\n",
       "      <td>failed</td>\n",
       "      <td>1.000000</td>\n",
       "      <td>549.000000</td>\n",
       "      <td>212500</td>\n",
       "      <td>2592000</td>\n",
       "    </tr>\n",
       "  </tbody>\n",
       "</table>\n",
       "</div>"
      ],
      "text/plain": [
       "   backers_count     category  converted_pledged_amount country currency  \\\n",
       "0             21         Rock                       802      US      USD   \n",
       "1             97  Mixed Media                      2259      US      USD   \n",
       "2             88   Photobooks                     29638      US      USD   \n",
       "3            193     Footwear                     49158      IT      EUR   \n",
       "4             20     Software                       549      US      USD   \n",
       "\n",
       "    fx_rate     goal  is_starrable  pledged  spotlight       state  \\\n",
       "0  1.000000    200.0         False    802.0       True  successful   \n",
       "1  1.000000    400.0         False   2259.0       True  successful   \n",
       "2  1.000000  27224.0         False  29638.0       True  successful   \n",
       "3  1.128433  40000.0         False  43180.0       True  successful   \n",
       "4  1.000000   1000.0         False    549.0      False      failed   \n",
       "\n",
       "   static_usd_rate   usd_pledged  preparation_duration  launch_duration  \n",
       "0         1.000000    802.000000                351356          3888000  \n",
       "1         1.000000   2259.000000                413843          1728000  \n",
       "2         1.000000  29638.000000                769946          2595600  \n",
       "3         1.136525  49075.152523                314662          3625358  \n",
       "4         1.000000    549.000000                212500          2592000  "
      ]
     },
     "execution_count": 147,
     "metadata": {},
     "output_type": "execute_result"
    }
   ],
   "source": [
    "# drop irrelevant columns.\n",
    "df.drop(['Unnamed: 0', 'blurb', 'created_at', 'currency_symbol', 'currency_trailing_code', 'current_currency',\n",
    "         'deadline', 'disable_communication', 'friends', 'id',\n",
    "         'is_backing', 'is_starred', 'launched_at', 'state_changed_at',\n",
    "         'name', 'permissions', 'profile', 'source_url', 'staff_pick', \n",
    "         'preparation_duration_r', 'launch_duration_r',\n",
    "         'created_at_readable', 'deadline_readable', 'launched_at_readable', \n",
    "         'location', 'usd_type'], axis = 1, inplace = True)\n",
    "df.head()"
   ]
  },
  {
   "cell_type": "code",
   "execution_count": 148,
   "metadata": {},
   "outputs": [],
   "source": [
    "df['state'] = df.state.str.contains('successful').astype(int)"
   ]
  },
  {
   "cell_type": "code",
   "execution_count": 149,
   "metadata": {},
   "outputs": [],
   "source": [
    "# add column representing continent\n",
    "def classifier(row):\n",
    "    if row.country in ['US', 'CA', 'GT', 'MX', 'PR', 'NI', 'SV', 'PA', 'BO', 'GU']:\n",
    "        return 'America'\n",
    "    elif row.country in ['NG', 'GH', 'ZA', 'KE', 'ET', 'CD', 'MA', 'TZ', 'ZM', 'LR', 'RW', 'ML', 'CM', 'NA', 'ZW', 'TN', 'SL', 'CF', 'UG', 'SD', 'SN', 'MW', 'MZ', 'LY', 'GN', 'SZ']:\n",
    "        return 'Africa'\n",
    "    elif row.country in ['GB', 'NO', 'DE', 'SE', 'BA', 'IS', 'HU', 'IT', 'NL','FR', 'UK', 'AT',\n",
    "       'TR','FI', 'CZ','AM', 'PT','DK','CH', 'SJ', 'RU', 'UA', 'BG','ES','PL', 'GE','IE','GR','RS','SI','BE','GL','RO','LT', 'FM','EE','CY', 'MK','KG',]:\n",
    "        return 'Europe'\n",
    "    elif row.country in ['JM', 'HT','BS','DO','LC', 'DO', 'TT']:\n",
    "        return 'Carribean'\n",
    "    elif row.country in ['CN', 'TW', 'HK', 'NP', 'ID', 'SG', 'IN', 'JP', 'LB', 'KZ', 'KR', 'PH', 'KH', 'TH','MY','BT','LK','BM','VN','BD', 'LA','GU']:\n",
    "        return 'Asia'\n",
    "    elif row.country in ['IL','QA', 'AF','KZ','AE','PS','SY','SA', 'IQ','IR','TJ',]:\n",
    "        return 'Arab'\n",
    "    else:\n",
    "        return \"Oceania\"   \n",
    "df[\"continent\"] = df.apply(classifier, axis=1)"
   ]
  },
  {
   "cell_type": "code",
   "execution_count": 150,
   "metadata": {},
   "outputs": [
    {
     "data": {
      "text/html": [
       "<div>\n",
       "<style scoped>\n",
       "    .dataframe tbody tr th:only-of-type {\n",
       "        vertical-align: middle;\n",
       "    }\n",
       "\n",
       "    .dataframe tbody tr th {\n",
       "        vertical-align: top;\n",
       "    }\n",
       "\n",
       "    .dataframe thead th {\n",
       "        text-align: right;\n",
       "    }\n",
       "</style>\n",
       "<table border=\"1\" class=\"dataframe\">\n",
       "  <thead>\n",
       "    <tr style=\"text-align: right;\">\n",
       "      <th></th>\n",
       "      <th>backers_count</th>\n",
       "      <th>category</th>\n",
       "      <th>converted_pledged_amount</th>\n",
       "      <th>country</th>\n",
       "      <th>currency</th>\n",
       "      <th>fx_rate</th>\n",
       "      <th>goal</th>\n",
       "      <th>is_starrable</th>\n",
       "      <th>pledged</th>\n",
       "      <th>spotlight</th>\n",
       "      <th>state</th>\n",
       "      <th>static_usd_rate</th>\n",
       "      <th>usd_pledged</th>\n",
       "      <th>preparation_duration</th>\n",
       "      <th>launch_duration</th>\n",
       "      <th>continent</th>\n",
       "    </tr>\n",
       "  </thead>\n",
       "  <tbody>\n",
       "    <tr>\n",
       "      <th>0</th>\n",
       "      <td>21</td>\n",
       "      <td>Rock</td>\n",
       "      <td>802</td>\n",
       "      <td>US</td>\n",
       "      <td>USD</td>\n",
       "      <td>1.000000</td>\n",
       "      <td>200.0</td>\n",
       "      <td>False</td>\n",
       "      <td>802.0</td>\n",
       "      <td>True</td>\n",
       "      <td>1</td>\n",
       "      <td>1.000000</td>\n",
       "      <td>802.000000</td>\n",
       "      <td>351356</td>\n",
       "      <td>3888000</td>\n",
       "      <td>America</td>\n",
       "    </tr>\n",
       "    <tr>\n",
       "      <th>1</th>\n",
       "      <td>97</td>\n",
       "      <td>Mixed Media</td>\n",
       "      <td>2259</td>\n",
       "      <td>US</td>\n",
       "      <td>USD</td>\n",
       "      <td>1.000000</td>\n",
       "      <td>400.0</td>\n",
       "      <td>False</td>\n",
       "      <td>2259.0</td>\n",
       "      <td>True</td>\n",
       "      <td>1</td>\n",
       "      <td>1.000000</td>\n",
       "      <td>2259.000000</td>\n",
       "      <td>413843</td>\n",
       "      <td>1728000</td>\n",
       "      <td>America</td>\n",
       "    </tr>\n",
       "    <tr>\n",
       "      <th>2</th>\n",
       "      <td>88</td>\n",
       "      <td>Photobooks</td>\n",
       "      <td>29638</td>\n",
       "      <td>US</td>\n",
       "      <td>USD</td>\n",
       "      <td>1.000000</td>\n",
       "      <td>27224.0</td>\n",
       "      <td>False</td>\n",
       "      <td>29638.0</td>\n",
       "      <td>True</td>\n",
       "      <td>1</td>\n",
       "      <td>1.000000</td>\n",
       "      <td>29638.000000</td>\n",
       "      <td>769946</td>\n",
       "      <td>2595600</td>\n",
       "      <td>America</td>\n",
       "    </tr>\n",
       "    <tr>\n",
       "      <th>3</th>\n",
       "      <td>193</td>\n",
       "      <td>Footwear</td>\n",
       "      <td>49158</td>\n",
       "      <td>IT</td>\n",
       "      <td>EUR</td>\n",
       "      <td>1.128433</td>\n",
       "      <td>40000.0</td>\n",
       "      <td>False</td>\n",
       "      <td>43180.0</td>\n",
       "      <td>True</td>\n",
       "      <td>1</td>\n",
       "      <td>1.136525</td>\n",
       "      <td>49075.152523</td>\n",
       "      <td>314662</td>\n",
       "      <td>3625358</td>\n",
       "      <td>Europe</td>\n",
       "    </tr>\n",
       "    <tr>\n",
       "      <th>4</th>\n",
       "      <td>20</td>\n",
       "      <td>Software</td>\n",
       "      <td>549</td>\n",
       "      <td>US</td>\n",
       "      <td>USD</td>\n",
       "      <td>1.000000</td>\n",
       "      <td>1000.0</td>\n",
       "      <td>False</td>\n",
       "      <td>549.0</td>\n",
       "      <td>False</td>\n",
       "      <td>0</td>\n",
       "      <td>1.000000</td>\n",
       "      <td>549.000000</td>\n",
       "      <td>212500</td>\n",
       "      <td>2592000</td>\n",
       "      <td>America</td>\n",
       "    </tr>\n",
       "  </tbody>\n",
       "</table>\n",
       "</div>"
      ],
      "text/plain": [
       "   backers_count     category  converted_pledged_amount country currency  \\\n",
       "0             21         Rock                       802      US      USD   \n",
       "1             97  Mixed Media                      2259      US      USD   \n",
       "2             88   Photobooks                     29638      US      USD   \n",
       "3            193     Footwear                     49158      IT      EUR   \n",
       "4             20     Software                       549      US      USD   \n",
       "\n",
       "    fx_rate     goal  is_starrable  pledged  spotlight  state  \\\n",
       "0  1.000000    200.0         False    802.0       True      1   \n",
       "1  1.000000    400.0         False   2259.0       True      1   \n",
       "2  1.000000  27224.0         False  29638.0       True      1   \n",
       "3  1.128433  40000.0         False  43180.0       True      1   \n",
       "4  1.000000   1000.0         False    549.0      False      0   \n",
       "\n",
       "   static_usd_rate   usd_pledged  preparation_duration  launch_duration  \\\n",
       "0         1.000000    802.000000                351356          3888000   \n",
       "1         1.000000   2259.000000                413843          1728000   \n",
       "2         1.000000  29638.000000                769946          2595600   \n",
       "3         1.136525  49075.152523                314662          3625358   \n",
       "4         1.000000    549.000000                212500          2592000   \n",
       "\n",
       "  continent  \n",
       "0   America  \n",
       "1   America  \n",
       "2   America  \n",
       "3    Europe  \n",
       "4   America  "
      ]
     },
     "execution_count": 150,
     "metadata": {},
     "output_type": "execute_result"
    }
   ],
   "source": [
    "df.head()"
   ]
  },
  {
   "cell_type": "code",
   "execution_count": 152,
   "metadata": {},
   "outputs": [
    {
     "data": {
      "text/html": [
       "<div>\n",
       "<style scoped>\n",
       "    .dataframe tbody tr th:only-of-type {\n",
       "        vertical-align: middle;\n",
       "    }\n",
       "\n",
       "    .dataframe tbody tr th {\n",
       "        vertical-align: top;\n",
       "    }\n",
       "\n",
       "    .dataframe thead th {\n",
       "        text-align: right;\n",
       "    }\n",
       "</style>\n",
       "<table border=\"1\" class=\"dataframe\">\n",
       "  <thead>\n",
       "    <tr style=\"text-align: right;\">\n",
       "      <th></th>\n",
       "      <th>backers_count</th>\n",
       "      <th>category</th>\n",
       "      <th>converted_pledged_amount</th>\n",
       "      <th>country</th>\n",
       "      <th>currency</th>\n",
       "      <th>fx_rate</th>\n",
       "      <th>goal</th>\n",
       "      <th>is_starrable</th>\n",
       "      <th>pledged</th>\n",
       "      <th>spotlight</th>\n",
       "      <th>state</th>\n",
       "      <th>static_usd_rate</th>\n",
       "      <th>usd_pledged</th>\n",
       "      <th>preparation_duration</th>\n",
       "      <th>launch_duration</th>\n",
       "      <th>continent</th>\n",
       "    </tr>\n",
       "  </thead>\n",
       "  <tbody>\n",
       "    <tr>\n",
       "      <th>0</th>\n",
       "      <td>21</td>\n",
       "      <td>120</td>\n",
       "      <td>802</td>\n",
       "      <td>20</td>\n",
       "      <td>13</td>\n",
       "      <td>1.000000</td>\n",
       "      <td>200.0</td>\n",
       "      <td>0</td>\n",
       "      <td>802.0</td>\n",
       "      <td>1</td>\n",
       "      <td>1</td>\n",
       "      <td>1.000000</td>\n",
       "      <td>802.000000</td>\n",
       "      <td>351356</td>\n",
       "      <td>3888000</td>\n",
       "      <td>0</td>\n",
       "    </tr>\n",
       "    <tr>\n",
       "      <th>1</th>\n",
       "      <td>97</td>\n",
       "      <td>83</td>\n",
       "      <td>2259</td>\n",
       "      <td>20</td>\n",
       "      <td>13</td>\n",
       "      <td>1.000000</td>\n",
       "      <td>400.0</td>\n",
       "      <td>0</td>\n",
       "      <td>2259.0</td>\n",
       "      <td>1</td>\n",
       "      <td>1</td>\n",
       "      <td>1.000000</td>\n",
       "      <td>2259.000000</td>\n",
       "      <td>413843</td>\n",
       "      <td>1728000</td>\n",
       "      <td>0</td>\n",
       "    </tr>\n",
       "    <tr>\n",
       "      <th>2</th>\n",
       "      <td>88</td>\n",
       "      <td>99</td>\n",
       "      <td>29638</td>\n",
       "      <td>20</td>\n",
       "      <td>13</td>\n",
       "      <td>1.000000</td>\n",
       "      <td>27224.0</td>\n",
       "      <td>0</td>\n",
       "      <td>29638.0</td>\n",
       "      <td>1</td>\n",
       "      <td>1</td>\n",
       "      <td>1.000000</td>\n",
       "      <td>29638.000000</td>\n",
       "      <td>769946</td>\n",
       "      <td>2595600</td>\n",
       "      <td>0</td>\n",
       "    </tr>\n",
       "    <tr>\n",
       "      <th>3</th>\n",
       "      <td>193</td>\n",
       "      <td>59</td>\n",
       "      <td>49158</td>\n",
       "      <td>12</td>\n",
       "      <td>4</td>\n",
       "      <td>1.128433</td>\n",
       "      <td>40000.0</td>\n",
       "      <td>0</td>\n",
       "      <td>43180.0</td>\n",
       "      <td>1</td>\n",
       "      <td>1</td>\n",
       "      <td>1.136525</td>\n",
       "      <td>49075.152523</td>\n",
       "      <td>314662</td>\n",
       "      <td>3625358</td>\n",
       "      <td>2</td>\n",
       "    </tr>\n",
       "    <tr>\n",
       "      <th>4</th>\n",
       "      <td>20</td>\n",
       "      <td>126</td>\n",
       "      <td>549</td>\n",
       "      <td>20</td>\n",
       "      <td>13</td>\n",
       "      <td>1.000000</td>\n",
       "      <td>1000.0</td>\n",
       "      <td>0</td>\n",
       "      <td>549.0</td>\n",
       "      <td>0</td>\n",
       "      <td>0</td>\n",
       "      <td>1.000000</td>\n",
       "      <td>549.000000</td>\n",
       "      <td>212500</td>\n",
       "      <td>2592000</td>\n",
       "      <td>0</td>\n",
       "    </tr>\n",
       "  </tbody>\n",
       "</table>\n",
       "</div>"
      ],
      "text/plain": [
       "   backers_count  category  converted_pledged_amount  country  currency  \\\n",
       "0             21       120                       802       20        13   \n",
       "1             97        83                      2259       20        13   \n",
       "2             88        99                     29638       20        13   \n",
       "3            193        59                     49158       12         4   \n",
       "4             20       126                       549       20        13   \n",
       "\n",
       "    fx_rate     goal  is_starrable  pledged  spotlight  state  \\\n",
       "0  1.000000    200.0             0    802.0          1      1   \n",
       "1  1.000000    400.0             0   2259.0          1      1   \n",
       "2  1.000000  27224.0             0  29638.0          1      1   \n",
       "3  1.128433  40000.0             0  43180.0          1      1   \n",
       "4  1.000000   1000.0             0    549.0          0      0   \n",
       "\n",
       "   static_usd_rate   usd_pledged  preparation_duration  launch_duration  \\\n",
       "0         1.000000    802.000000                351356          3888000   \n",
       "1         1.000000   2259.000000                413843          1728000   \n",
       "2         1.000000  29638.000000                769946          2595600   \n",
       "3         1.136525  49075.152523                314662          3625358   \n",
       "4         1.000000    549.000000                212500          2592000   \n",
       "\n",
       "   continent  \n",
       "0          0  \n",
       "1          0  \n",
       "2          0  \n",
       "3          2  \n",
       "4          0  "
      ]
     },
     "execution_count": 152,
     "metadata": {},
     "output_type": "execute_result"
    }
   ],
   "source": [
    "from sklearn import preprocessing\n",
    "def encode_features(df):\n",
    "    features = ['category', 'country', 'currency', 'is_starrable', 'continent', 'spotlight']\n",
    "    df_combined = pd.concat([df])\n",
    "    \n",
    "    for feature in features:\n",
    "        le = preprocessing.LabelEncoder()\n",
    "        le = le.fit(df_combined[feature])\n",
    "        df[feature] = le.transform(df[feature])\n",
    "    return df\n",
    "    \n",
    "data = encode_features(df)\n",
    "data.head()"
   ]
  },
  {
   "cell_type": "code",
   "execution_count": 153,
   "metadata": {},
   "outputs": [
    {
     "data": {
      "text/plain": [
       "0    2677\n",
       "2     689\n",
       "3      98\n",
       "1      36\n",
       "Name: continent, dtype: int64"
      ]
     },
     "execution_count": 153,
     "metadata": {},
     "output_type": "execute_result"
    }
   ],
   "source": [
    "df.continent.value_counts()"
   ]
  },
  {
   "cell_type": "code",
   "execution_count": 208,
   "metadata": {},
   "outputs": [],
   "source": [
    "X = df.drop(['preparation_duration', 'launch_duration', 'state', 'backers_count', 'spotlight'], axis=1)\n",
    "y = df['state']"
   ]
  },
  {
   "cell_type": "code",
   "execution_count": 210,
   "metadata": {},
   "outputs": [],
   "source": [
    "from sklearn.preprocessing import Imputer\n",
    "X = Imputer().fit_transform(X)"
   ]
  },
  {
   "cell_type": "markdown",
   "metadata": {},
   "source": [
    "## kNN Model"
   ]
  },
  {
   "cell_type": "code",
   "execution_count": 211,
   "metadata": {},
   "outputs": [
    {
     "name": "stdout",
     "output_type": "stream",
     "text": [
      "Computed k_scores for k value in range 1 to 200.\n"
     ]
    }
   ],
   "source": [
    "k_range = range(1,200)\n",
    "k_scores = []\n",
    "for k in k_range:\n",
    "    knn = KNeighborsClassifier(n_neighbors=k)\n",
    "    scores = cross_val_score(knn, X, y, cv=10, scoring = 'accuracy')\n",
    "    k_scores.append(scores.mean())\n",
    "print('Computed k_scores for k value in range 1 to 200.')"
   ]
  },
  {
   "cell_type": "code",
   "execution_count": 212,
   "metadata": {},
   "outputs": [
    {
     "data": {
      "text/plain": [
       "0.9745696186441173"
      ]
     },
     "execution_count": 212,
     "metadata": {},
     "output_type": "execute_result"
    }
   ],
   "source": [
    "scores.mean()"
   ]
  },
  {
   "cell_type": "code",
   "execution_count": 213,
   "metadata": {},
   "outputs": [
    {
     "data": {
      "text/plain": [
       "0.9857549857549858"
      ]
     },
     "execution_count": 213,
     "metadata": {},
     "output_type": "execute_result"
    }
   ],
   "source": [
    "scores.max()"
   ]
  },
  {
   "cell_type": "code",
   "execution_count": 214,
   "metadata": {},
   "outputs": [
    {
     "data": {
      "text/plain": [
       "Text(0,0.5,'cross-validated accuracy')"
      ]
     },
     "execution_count": 214,
     "metadata": {},
     "output_type": "execute_result"
    },
    {
     "data": {
      "image/png": "[encoded data removed]",
      "text/plain": [
       "<Figure size 432x288 with 1 Axes>"
      ]
     },
     "metadata": {
      "needs_background": "light"
     },
     "output_type": "display_data"
    }
   ],
   "source": [
    "plt.plot(k_range, k_scores)\n",
    "plt.xlabel('value of k for knn')\n",
    "plt.ylabel('cross-validated accuracy')"
   ]
  },
  {
   "cell_type": "code",
   "execution_count": 215,
   "metadata": {},
   "outputs": [
    {
     "name": "stdout",
     "output_type": "stream",
     "text": [
      "The optimal number of neighbors is 1\n"
     ]
    }
   ],
   "source": [
    "MSE = [1 - x for x in k_scores]\n",
    "optimal_k = k_range[MSE.index(min(MSE))]\n",
    "print(\"The optimal number of neighbors is %d\" % optimal_k)"
   ]
  },
  {
   "cell_type": "markdown",
   "metadata": {},
   "source": [
    "## Linear Regression Model"
   ]
  },
  {
   "cell_type": "code",
   "execution_count": 221,
   "metadata": {},
   "outputs": [
    {
     "data": {
      "text/plain": [
       "<matplotlib.axes._subplots.AxesSubplot at 0x1a24966710>"
      ]
     },
     "execution_count": 221,
     "metadata": {},
     "output_type": "execute_result"
    },
    {
     "data": {
      "image/png": "[encoded data removed]",
      "text/plain": [
       "<Figure size 432x288 with 1 Axes>"
      ]
     },
     "metadata": {
      "needs_background": "light"
     },
     "output_type": "display_data"
    }
   ],
   "source": [
    "df.state.value_counts().plot(kind = 'box')"
   ]
  },
  {
   "cell_type": "code",
   "execution_count": 222,
   "metadata": {},
   "outputs": [],
   "source": [
    "ss = StandardScaler()\n",
    "lr = LogisticRegression()\n",
    "lr_pipe = Pipeline([('sscale', ss), ('logreg', lr)])"
   ]
  },
  {
   "cell_type": "code",
   "execution_count": 223,
   "metadata": {},
   "outputs": [
    {
     "data": {
      "text/plain": [
       "Pipeline(memory=None,\n",
       "     steps=[('sscale', StandardScaler(copy=True, with_mean=True, with_std=True)), ('logreg', LogisticRegression(C=1.0, class_weight=None, dual=False, fit_intercept=True,\n",
       "          intercept_scaling=1, max_iter=100, multi_class='ovr', n_jobs=1,\n",
       "          penalty='l2', random_state=None, solver='liblinear', tol=0.0001,\n",
       "          verbose=0, warm_start=False))])"
      ]
     },
     "execution_count": 223,
     "metadata": {},
     "output_type": "execute_result"
    }
   ],
   "source": [
    "lr_pipe.fit(X, y)"
   ]
  },
  {
   "cell_type": "code",
   "execution_count": 224,
   "metadata": {},
   "outputs": [
    {
     "data": {
      "text/plain": [
       "0.8425714285714285"
      ]
     },
     "execution_count": 224,
     "metadata": {},
     "output_type": "execute_result"
    }
   ],
   "source": [
    "lr_pipe.score(X,y)"
   ]
  },
  {
   "cell_type": "code",
   "execution_count": 225,
   "metadata": {},
   "outputs": [],
   "source": [
    "# divide the dataset into \n",
    "#  - 70% training data\n",
    "#  - 30% test data\n",
    "X_train, X_test, y_train, y_test = train_test_split(X, y, test_size = 0.30)"
   ]
  },
  {
   "cell_type": "code",
   "execution_count": 226,
   "metadata": {},
   "outputs": [
    {
     "data": {
      "text/plain": [
       "Pipeline(memory=None,\n",
       "     steps=[('sscale', StandardScaler(copy=True, with_mean=True, with_std=True)), ('logreg', LogisticRegression(C=1.0, class_weight=None, dual=False, fit_intercept=True,\n",
       "          intercept_scaling=1, max_iter=100, multi_class='ovr', n_jobs=1,\n",
       "          penalty='l2', random_state=None, solver='liblinear', tol=0.0001,\n",
       "          verbose=0, warm_start=False))])"
      ]
     },
     "execution_count": 226,
     "metadata": {},
     "output_type": "execute_result"
    }
   ],
   "source": [
    "lr_pipe.fit(X_train, y_train)"
   ]
  },
  {
   "cell_type": "code",
   "execution_count": 227,
   "metadata": {},
   "outputs": [
    {
     "data": {
      "text/plain": [
       "0.8447619047619047"
      ]
     },
     "execution_count": 227,
     "metadata": {},
     "output_type": "execute_result"
    }
   ],
   "source": [
    "lr_pipe.score(X_test, y_test) "
   ]
  },
  {
   "cell_type": "code",
   "execution_count": 228,
   "metadata": {},
   "outputs": [],
   "source": [
    "y_pred = lr_pipe.predict(X_test)"
   ]
  },
  {
   "cell_type": "code",
   "execution_count": 230,
   "metadata": {},
   "outputs": [],
   "source": [
    "from sklearn.metrics import accuracy_score, f1_score, precision_score, recall_score, classification_report, confusion_matrix"
   ]
  },
  {
   "cell_type": "code",
   "execution_count": 231,
   "metadata": {},
   "outputs": [
    {
     "name": "stdout",
     "output_type": "stream",
     "text": [
      "0.8257289803083421\n",
      "0.8388706844132152\n",
      "0.817037037037037\n"
     ]
    }
   ],
   "source": [
    "print(f1_score(y_test, y_pred, average=\"macro\"))\n",
    "print(precision_score(y_test, y_pred, average=\"macro\"))\n",
    "print(recall_score(y_test, y_pred, average=\"macro\"))"
   ]
  }
 ],
 "metadata": {
  "kernelspec": {
   "display_name": "Python 3",
   "language": "python",
   "name": "python3"
  },
  "language_info": {
   "codemirror_mode": {
    "name": "ipython",
    "version": 3
   },
   "file_extension": ".py",
   "mimetype": "text/x-python",
   "name": "python",
   "nbconvert_exporter": "python",
   "pygments_lexer": "ipython3",
   "version": "3.7.0"
  }
 },
 "nbformat": 4,
 "nbformat_minor": 2
}
